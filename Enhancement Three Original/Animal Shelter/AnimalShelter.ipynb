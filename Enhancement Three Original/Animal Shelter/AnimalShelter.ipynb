{
 "cells": [
  {
   "cell_type": "code",
   "execution_count": 1,
   "id": "24665c77",
   "metadata": {},
   "outputs": [],
   "source": [
    "from pymongo import MongoClient\n",
    "from bson.objectid import ObjectId"
   ]
  },
  {
   "cell_type": "code",
   "execution_count": 2,
   "id": "b3f1d6df",
   "metadata": {},
   "outputs": [],
   "source": [
    "class AnimalShelter (object):\n",
    "    \"\"\" CRUD operations for Animal collection in MongoDB \"\"\"\n",
    "    \n",
    "    def __init__(self, USER, PASS):\n",
    "        #Initializing the MongoClient. This helps to\n",
    "        #access the MongoDB databases and collections.\n",
    "        #This is hard-wired to use the aac database, the\n",
    "        #animals collection, and the aac user.\n",
    "        #Definitions of the connection string variables are\n",
    "        #unique to the individual Apporto environment.\n",
    "        #\n",
    "        #You must edit the connection variables below to reflect\n",
    "        #your own instance of MongoDB!\n",
    "        #\n",
    "        #Connection Variables\n",
    "        #\n",
    "        USER = 'aacuser'\n",
    "        PASS = 'Penguins1'\n",
    "        HOST = 'nv-desktop-services.apporto.com'\n",
    "        PORT = 30449\n",
    "        DB = 'AAC'\n",
    "        COL = 'animals'\n",
    "        #\n",
    "        # Initialize Connection\n",
    "        #\n",
    "        self.client = MongoClient('mongodb://%s:%s@localhost:30449/test?authSource=AAC'%(\"aacuser\", \"aacuser\"))\n",
    "        self.database = self.client['AAC']\n",
    "        self.collection = self.database['animals']"
   ]
  },
  {
   "cell_type": "code",
   "execution_count": 3,
   "id": "8dabd696",
   "metadata": {},
   "outputs": [],
   "source": [
    "def create(self, data):\n",
    "        if data is not None:\n",
    "            result = self.database.animals.insert_one(data)\n",
    "            if insert!=0:\n",
    "                return True\n",
    "            else:\n",
    "                return False\n",
    "        else:\n",
    "            raise Exception(\"Nothing to save, because data parameter is empty\")"
   ]
  },
  {
   "cell_type": "code",
   "execution_count": 4,
   "id": "2bccabe1",
   "metadata": {},
   "outputs": [],
   "source": [
    " def read(self, criteria=None):\n",
    "        if criteria is not None:\n",
    "            data = self.database.animals.find(criteria,{\"_id\": False})\n",
    "            for document in data:\n",
    "                print(document)\n",
    "        else:\n",
    "            data = self.database.animals.find({}, {\"_id\": False})\n",
    "            \n",
    "        return data"
   ]
  },
  {
   "cell_type": "code",
   "execution_count": null,
   "id": "e829003b",
   "metadata": {},
   "outputs": [],
   "source": []
  }
 ],
 "metadata": {
  "kernelspec": {
   "display_name": "Python 3 (ipykernel)",
   "language": "python",
   "name": "python3"
  },
  "language_info": {
   "codemirror_mode": {
    "name": "ipython",
    "version": 3
   },
   "file_extension": ".py",
   "mimetype": "text/x-python",
   "name": "python",
   "nbconvert_exporter": "python",
   "pygments_lexer": "ipython3",
   "version": "3.9.12"
  }
 },
 "nbformat": 4,
 "nbformat_minor": 5
}
